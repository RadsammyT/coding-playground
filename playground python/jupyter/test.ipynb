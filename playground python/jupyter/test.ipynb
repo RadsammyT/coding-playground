{
 "cells": [
  {
   "cell_type": "markdown",
   "metadata": {},
   "source": [
    "#What the fuck is this\n",
    "\n",
    "??????????????????????"
   ]
  },
  {
   "cell_type": "code",
   "execution_count": 1,
   "metadata": {},
   "outputs": [
    {
     "name": "stdout",
     "output_type": "stream",
     "text": [
      "2\n",
      "4\n",
      "12\n",
      "48\n",
      "240\n",
      "1440\n",
      "10080\n",
      "80640\n",
      "725760\n"
     ]
    }
   ],
   "source": [
    "test = 2\n",
    "for i in range(1,10):\n",
    "    test *= i\n",
    "    print(test)\n",
    "\n"
   ]
  }
 ],
 "metadata": {
  "kernelspec": {
   "display_name": "Python 3.10.2 64-bit",
   "language": "python",
   "name": "python3"
  },
  "language_info": {
   "codemirror_mode": {
    "name": "ipython",
    "version": 3
   },
   "file_extension": ".py",
   "mimetype": "text/x-python",
   "name": "python",
   "nbconvert_exporter": "python",
   "pygments_lexer": "ipython3",
   "version": "3.10.2"
  },
  "orig_nbformat": 4,
  "vscode": {
   "interpreter": {
    "hash": "039e342c4f3bb96c170fa4c23d380dcb62324e01232f2e9fbe9f8a00f299bf4f"
   }
  }
 },
 "nbformat": 4,
 "nbformat_minor": 2
}
